{
  "nbformat": 4,
  "nbformat_minor": 0,
  "metadata": {
    "colab": {
      "provenance": []
    },
    "kernelspec": {
      "name": "python3",
      "display_name": "Python 3"
    },
    "language_info": {
      "name": "python"
    }
  },
  "cells": [
    {
      "cell_type": "code",
      "execution_count": 1,
      "metadata": {
        "id": "hSxFTXUndt6X"
      },
      "outputs": [],
      "source": [
        "import numpy as np\n",
        "import pandas as pd\n",
        "import seaborn as sns"
      ]
    },
    {
      "cell_type": "code",
      "source": [
        "import matplotlib.pyplot as plt \n",
        "from sklearn.ensemble import IsolationForest\n",
        "from sklearn.preprocessing import StandardScaler\n",
        "from sklearn.decomposition import PCA\n",
        "from sklearn import tree\n",
        "from sklearn.model_selection import train_test_split\n",
        "from sklearn.metrics import confusion_matrix,recall_score\n",
        "from mpl_toolkits.mplot3d import Axes3D\n",
        "from sklearn.tree import DecisionTreeClassifier\n",
        "from sklearn.ensemble import RandomForestClassifier"
      ],
      "metadata": {
        "id": "plN-bKGHfR-K"
      },
      "execution_count": 2,
      "outputs": []
    },
    {
      "cell_type": "code",
      "source": [
        "data=pd.read_csv('/content/FinalBalancedDataset.csv')"
      ],
      "metadata": {
        "id": "UXEdthuGfgGx"
      },
      "execution_count": 3,
      "outputs": []
    },
    {
      "cell_type": "code",
      "source": [
        "data.head()"
      ],
      "metadata": {
        "colab": {
          "base_uri": "https://localhost:8080/",
          "height": 206
        },
        "id": "g8W-JXDmfxGB",
        "outputId": "7da1f37e-d8c7-435d-e632-2ac849da4732"
      },
      "execution_count": 4,
      "outputs": [
        {
          "output_type": "execute_result",
          "data": {
            "text/plain": [
              "   Unnamed: 0  Toxicity                                              tweet\n",
              "0           0         0   @user when a father is dysfunctional and is s...\n",
              "1           1         0  @user @user thanks for #lyft credit i can't us...\n",
              "2           2         0                                bihday your majesty\n",
              "3           3         0  #model   i love u take with u all the time in ...\n",
              "4           4         0             factsguide: society now    #motivation"
            ],
            "text/html": [
              "\n",
              "  <div id=\"df-e8e33757-3b32-426a-852f-f1369e721e08\">\n",
              "    <div class=\"colab-df-container\">\n",
              "      <div>\n",
              "<style scoped>\n",
              "    .dataframe tbody tr th:only-of-type {\n",
              "        vertical-align: middle;\n",
              "    }\n",
              "\n",
              "    .dataframe tbody tr th {\n",
              "        vertical-align: top;\n",
              "    }\n",
              "\n",
              "    .dataframe thead th {\n",
              "        text-align: right;\n",
              "    }\n",
              "</style>\n",
              "<table border=\"1\" class=\"dataframe\">\n",
              "  <thead>\n",
              "    <tr style=\"text-align: right;\">\n",
              "      <th></th>\n",
              "      <th>Unnamed: 0</th>\n",
              "      <th>Toxicity</th>\n",
              "      <th>tweet</th>\n",
              "    </tr>\n",
              "  </thead>\n",
              "  <tbody>\n",
              "    <tr>\n",
              "      <th>0</th>\n",
              "      <td>0</td>\n",
              "      <td>0</td>\n",
              "      <td>@user when a father is dysfunctional and is s...</td>\n",
              "    </tr>\n",
              "    <tr>\n",
              "      <th>1</th>\n",
              "      <td>1</td>\n",
              "      <td>0</td>\n",
              "      <td>@user @user thanks for #lyft credit i can't us...</td>\n",
              "    </tr>\n",
              "    <tr>\n",
              "      <th>2</th>\n",
              "      <td>2</td>\n",
              "      <td>0</td>\n",
              "      <td>bihday your majesty</td>\n",
              "    </tr>\n",
              "    <tr>\n",
              "      <th>3</th>\n",
              "      <td>3</td>\n",
              "      <td>0</td>\n",
              "      <td>#model   i love u take with u all the time in ...</td>\n",
              "    </tr>\n",
              "    <tr>\n",
              "      <th>4</th>\n",
              "      <td>4</td>\n",
              "      <td>0</td>\n",
              "      <td>factsguide: society now    #motivation</td>\n",
              "    </tr>\n",
              "  </tbody>\n",
              "</table>\n",
              "</div>\n",
              "      <button class=\"colab-df-convert\" onclick=\"convertToInteractive('df-e8e33757-3b32-426a-852f-f1369e721e08')\"\n",
              "              title=\"Convert this dataframe to an interactive table.\"\n",
              "              style=\"display:none;\">\n",
              "        \n",
              "  <svg xmlns=\"http://www.w3.org/2000/svg\" height=\"24px\"viewBox=\"0 0 24 24\"\n",
              "       width=\"24px\">\n",
              "    <path d=\"M0 0h24v24H0V0z\" fill=\"none\"/>\n",
              "    <path d=\"M18.56 5.44l.94 2.06.94-2.06 2.06-.94-2.06-.94-.94-2.06-.94 2.06-2.06.94zm-11 1L8.5 8.5l.94-2.06 2.06-.94-2.06-.94L8.5 2.5l-.94 2.06-2.06.94zm10 10l.94 2.06.94-2.06 2.06-.94-2.06-.94-.94-2.06-.94 2.06-2.06.94z\"/><path d=\"M17.41 7.96l-1.37-1.37c-.4-.4-.92-.59-1.43-.59-.52 0-1.04.2-1.43.59L10.3 9.45l-7.72 7.72c-.78.78-.78 2.05 0 2.83L4 21.41c.39.39.9.59 1.41.59.51 0 1.02-.2 1.41-.59l7.78-7.78 2.81-2.81c.8-.78.8-2.07 0-2.86zM5.41 20L4 18.59l7.72-7.72 1.47 1.35L5.41 20z\"/>\n",
              "  </svg>\n",
              "      </button>\n",
              "      \n",
              "  <style>\n",
              "    .colab-df-container {\n",
              "      display:flex;\n",
              "      flex-wrap:wrap;\n",
              "      gap: 12px;\n",
              "    }\n",
              "\n",
              "    .colab-df-convert {\n",
              "      background-color: #E8F0FE;\n",
              "      border: none;\n",
              "      border-radius: 50%;\n",
              "      cursor: pointer;\n",
              "      display: none;\n",
              "      fill: #1967D2;\n",
              "      height: 32px;\n",
              "      padding: 0 0 0 0;\n",
              "      width: 32px;\n",
              "    }\n",
              "\n",
              "    .colab-df-convert:hover {\n",
              "      background-color: #E2EBFA;\n",
              "      box-shadow: 0px 1px 2px rgba(60, 64, 67, 0.3), 0px 1px 3px 1px rgba(60, 64, 67, 0.15);\n",
              "      fill: #174EA6;\n",
              "    }\n",
              "\n",
              "    [theme=dark] .colab-df-convert {\n",
              "      background-color: #3B4455;\n",
              "      fill: #D2E3FC;\n",
              "    }\n",
              "\n",
              "    [theme=dark] .colab-df-convert:hover {\n",
              "      background-color: #434B5C;\n",
              "      box-shadow: 0px 1px 3px 1px rgba(0, 0, 0, 0.15);\n",
              "      filter: drop-shadow(0px 1px 2px rgba(0, 0, 0, 0.3));\n",
              "      fill: #FFFFFF;\n",
              "    }\n",
              "  </style>\n",
              "\n",
              "      <script>\n",
              "        const buttonEl =\n",
              "          document.querySelector('#df-e8e33757-3b32-426a-852f-f1369e721e08 button.colab-df-convert');\n",
              "        buttonEl.style.display =\n",
              "          google.colab.kernel.accessAllowed ? 'block' : 'none';\n",
              "\n",
              "        async function convertToInteractive(key) {\n",
              "          const element = document.querySelector('#df-e8e33757-3b32-426a-852f-f1369e721e08');\n",
              "          const dataTable =\n",
              "            await google.colab.kernel.invokeFunction('convertToInteractive',\n",
              "                                                     [key], {});\n",
              "          if (!dataTable) return;\n",
              "\n",
              "          const docLinkHtml = 'Like what you see? Visit the ' +\n",
              "            '<a target=\"_blank\" href=https://colab.research.google.com/notebooks/data_table.ipynb>data table notebook</a>'\n",
              "            + ' to learn more about interactive tables.';\n",
              "          element.innerHTML = '';\n",
              "          dataTable['output_type'] = 'display_data';\n",
              "          await google.colab.output.renderOutput(dataTable, element);\n",
              "          const docLink = document.createElement('div');\n",
              "          docLink.innerHTML = docLinkHtml;\n",
              "          element.appendChild(docLink);\n",
              "        }\n",
              "      </script>\n",
              "    </div>\n",
              "  </div>\n",
              "  "
            ]
          },
          "metadata": {},
          "execution_count": 4
        }
      ]
    },
    {
      "cell_type": "code",
      "source": [
        "data.count()"
      ],
      "metadata": {
        "colab": {
          "base_uri": "https://localhost:8080/"
        },
        "id": "LNgVj_wmf11D",
        "outputId": "ba5dd266-6034-42de-9054-63a0440bcbc8"
      },
      "execution_count": 5,
      "outputs": [
        {
          "output_type": "execute_result",
          "data": {
            "text/plain": [
              "Unnamed: 0    56745\n",
              "Toxicity      56745\n",
              "tweet         56745\n",
              "dtype: int64"
            ]
          },
          "metadata": {},
          "execution_count": 5
        }
      ]
    },
    {
      "cell_type": "code",
      "source": [
        "x = data.iloc[:,-1]\n",
        "y = data.iloc[:,-2]"
      ],
      "metadata": {
        "id": "SMMlVM58gBjh"
      },
      "execution_count": 7,
      "outputs": []
    },
    {
      "cell_type": "code",
      "source": [
        "x"
      ],
      "metadata": {
        "colab": {
          "base_uri": "https://localhost:8080/"
        },
        "id": "vL4sbxJagKfS",
        "outputId": "73befecb-e561-45a5-af32-daa2253d825e"
      },
      "execution_count": 11,
      "outputs": [
        {
          "output_type": "execute_result",
          "data": {
            "text/plain": [
              "0         user when a father is dysfunctional and is so...\n",
              "1        user user thanks for lyft credit i cant use ca...\n",
              "2                                      bihday your majesty\n",
              "3        model   i love u take with u all the time in u...\n",
              "4                     factsguide society now    motivation\n",
              "                               ...                        \n",
              "56740    yous a muthafin lie LifeAsKing Pearls coreyema...\n",
              "56741    youve gone and broke the wrong heart baby and ...\n",
              "56742    young buck wanna eat dat nigguh like I aint fu...\n",
              "56743                youu got wild bitches tellin you lies\n",
              "56744    Ruffled  Ntac Eileen Dahlia  Beautiful color c...\n",
              "Name: tweet, Length: 56745, dtype: object"
            ]
          },
          "metadata": {},
          "execution_count": 11
        }
      ]
    },
    {
      "cell_type": "code",
      "source": [
        "y"
      ],
      "metadata": {
        "colab": {
          "base_uri": "https://localhost:8080/"
        },
        "id": "RMwZVXONgN7J",
        "outputId": "7d51bb5c-2d78-4585-cd0a-457338efbd21"
      },
      "execution_count": 12,
      "outputs": [
        {
          "output_type": "execute_result",
          "data": {
            "text/plain": [
              "0        0\n",
              "1        0\n",
              "2        0\n",
              "3        0\n",
              "4        0\n",
              "        ..\n",
              "56740    1\n",
              "56741    1\n",
              "56742    1\n",
              "56743    1\n",
              "56744    0\n",
              "Name: Toxicity, Length: 56745, dtype: int64"
            ]
          },
          "metadata": {},
          "execution_count": 12
        }
      ]
    },
    {
      "cell_type": "code",
      "source": [
        "# Remove the special char and Number using regex\n",
        "x=x.replace(r'[^\\w\\s]|_', '', regex=True)\n",
        "x=x.replace('\\d+', '', regex=True)\n",
        "x"
      ],
      "metadata": {
        "colab": {
          "base_uri": "https://localhost:8080/"
        },
        "id": "R5VFoquRgbIS",
        "outputId": "b8d26678-9c61-43a7-b26b-113d33558cf6"
      },
      "execution_count": 13,
      "outputs": [
        {
          "output_type": "execute_result",
          "data": {
            "text/plain": [
              "0         user when a father is dysfunctional and is so...\n",
              "1        user user thanks for lyft credit i cant use ca...\n",
              "2                                      bihday your majesty\n",
              "3        model   i love u take with u all the time in u...\n",
              "4                     factsguide society now    motivation\n",
              "                               ...                        \n",
              "56740    yous a muthafin lie LifeAsKing Pearls coreyema...\n",
              "56741    youve gone and broke the wrong heart baby and ...\n",
              "56742    young buck wanna eat dat nigguh like I aint fu...\n",
              "56743                youu got wild bitches tellin you lies\n",
              "56744    Ruffled  Ntac Eileen Dahlia  Beautiful color c...\n",
              "Name: tweet, Length: 56745, dtype: object"
            ]
          },
          "metadata": {},
          "execution_count": 13
        }
      ]
    },
    {
      "cell_type": "code",
      "source": [
        "# Removing stop_words like I,me,myself using Spacy API\n",
        "import spacy\n",
        "from spacy.lang.en.stop_words import STOP_WORDS\n",
        "nlp = spacy.load('en_core_web_sm', disable=['parser', 'ner'])\n",
        "\n",
        "def remove_stop_words(text: str):\n",
        "    filtered_sentence = []\n",
        "    for word in text.split(' '):\n",
        "        lexeme = nlp.vocab[word]\n",
        "        if lexeme.is_stop == False:\n",
        "            filtered_sentence.append(word) \n",
        "    return \" \".join(filtered_sentence)\n",
        "\n",
        "x = x.apply(lambda x : remove_stop_words(x))"
      ],
      "metadata": {
        "colab": {
          "base_uri": "https://localhost:8080/"
        },
        "id": "F_X4XQZGgzln",
        "outputId": "3f1b11df-9dc9-46cb-bf99-1b7842ed67dc"
      },
      "execution_count": 14,
      "outputs": [
        {
          "output_type": "stream",
          "name": "stderr",
          "text": [
            "/usr/local/lib/python3.8/dist-packages/torch/cuda/__init__.py:497: UserWarning: Can't initialize NVML\n",
            "  warnings.warn(\"Can't initialize NVML\")\n"
          ]
        }
      ]
    },
    {
      "cell_type": "code",
      "source": [
        "x"
      ],
      "metadata": {
        "colab": {
          "base_uri": "https://localhost:8080/"
        },
        "id": "DK_YpSTihTnB",
        "outputId": "22346615-7919-40ef-9ce1-d0bb1ee2b09f"
      },
      "execution_count": 15,
      "outputs": [
        {
          "output_type": "execute_result",
          "data": {
            "text/plain": [
              "0         user father dysfunctional selfish drags kids ...\n",
              "1        user user thanks lyft credit cant use cause do...\n",
              "2                                           bihday majesty\n",
              "3                     model   love u u time urð ðððð\n",
              "ððð  \n",
              "4                         factsguide society    motivation\n",
              "                               ...                        \n",
              "56740    yous muthafin lie LifeAsKing Pearls coreyemanu...\n",
              "56741    youve gone broke wrong heart baby drove rednec...\n",
              "56742    young buck wanna eat dat nigguh like aint fuck...\n",
              "56743                    youu got wild bitches tellin lies\n",
              "56744    Ruffled  Ntac Eileen Dahlia  Beautiful color c...\n",
              "Name: tweet, Length: 56745, dtype: object"
            ]
          },
          "metadata": {},
          "execution_count": 15
        }
      ]
    },
    {
      "cell_type": "code",
      "source": [
        "# Lemmatize sentence\n",
        "def lemmatize(text:str):\n",
        "    return \" \".join([token.lemma_ for token in nlp(text)])"
      ],
      "metadata": {
        "id": "wgeWk23uhbxP"
      },
      "execution_count": 16,
      "outputs": []
    },
    {
      "cell_type": "code",
      "source": [
        "x=x.apply(lambda x: x.lower())"
      ],
      "metadata": {
        "id": "Iq2apQFCiQZX"
      },
      "execution_count": 19,
      "outputs": []
    },
    {
      "cell_type": "code",
      "source": [
        "x"
      ],
      "metadata": {
        "colab": {
          "base_uri": "https://localhost:8080/"
        },
        "id": "A1zxwk6Jiomg",
        "outputId": "dc94d6e8-fc16-469b-87c5-0c50172203d3"
      },
      "execution_count": 20,
      "outputs": [
        {
          "output_type": "execute_result",
          "data": {
            "text/plain": [
              "0         user father dysfunctional selfish drags kids ...\n",
              "1        user user thanks lyft credit cant use cause do...\n",
              "2                                           bihday majesty\n",
              "3                     model   love u u time urð ðððð\n",
              "ððð  \n",
              "4                         factsguide society    motivation\n",
              "                               ...                        \n",
              "56740    yous muthafin lie lifeasking pearls coreyemanu...\n",
              "56741    youve gone broke wrong heart baby drove rednec...\n",
              "56742    young buck wanna eat dat nigguh like aint fuck...\n",
              "56743                    youu got wild bitches tellin lies\n",
              "56744    ruffled  ntac eileen dahlia  beautiful color c...\n",
              "Name: tweet, Length: 56745, dtype: object"
            ]
          },
          "metadata": {},
          "execution_count": 20
        }
      ]
    },
    {
      "cell_type": "code",
      "source": [
        "# Split the sample into 80% training and 20% testing\n",
        "x_train, x_test, y_train, y_test = train_test_split(x, y, random_state=0, train_size =0.8)"
      ],
      "metadata": {
        "id": "M7WquKlXiV_u"
      },
      "execution_count": 21,
      "outputs": []
    },
    {
      "cell_type": "code",
      "source": [
        "y_train"
      ],
      "metadata": {
        "colab": {
          "base_uri": "https://localhost:8080/"
        },
        "id": "8SjlMAVni7IX",
        "outputId": "dc8931d4-62b4-4d57-daa9-8290d48cccf9"
      },
      "execution_count": 25,
      "outputs": [
        {
          "output_type": "execute_result",
          "data": {
            "text/plain": [
              "9904     0\n",
              "28993    0\n",
              "19824    0\n",
              "27238    0\n",
              "42026    1\n",
              "        ..\n",
              "45891    1\n",
              "52416    1\n",
              "42613    1\n",
              "43567    1\n",
              "2732     0\n",
              "Name: Toxicity, Length: 45396, dtype: int64"
            ]
          },
          "metadata": {},
          "execution_count": 25
        }
      ]
    },
    {
      "cell_type": "code",
      "source": [
        "top_tweets=y_train[1:100]"
      ],
      "metadata": {
        "id": "ugKBVPIGj7MA"
      },
      "execution_count": 28,
      "outputs": []
    },
    {
      "cell_type": "code",
      "source": [
        "for i in top_tweets:\n",
        "  if i==1:\n",
        "    print(\"It is a toxic tweet\")\n",
        "  else:\n",
        "    print(\"It is a non-toxic tweet\")"
      ],
      "metadata": {
        "colab": {
          "base_uri": "https://localhost:8080/"
        },
        "id": "dQGLyK-LkCzd",
        "outputId": "225d2108-c1b3-4547-be5e-7008d508bc35"
      },
      "execution_count": 35,
      "outputs": [
        {
          "output_type": "stream",
          "name": "stdout",
          "text": [
            "It is a non-toxic tweet\n",
            "It is a non-toxic tweet\n",
            "It is a non-toxic tweet\n",
            "It is a toxic tweet\n",
            "It is a non-toxic tweet\n",
            "It is a toxic tweet\n",
            "It is a toxic tweet\n",
            "It is a non-toxic tweet\n",
            "It is a non-toxic tweet\n",
            "It is a non-toxic tweet\n",
            "It is a non-toxic tweet\n",
            "It is a toxic tweet\n",
            "It is a toxic tweet\n",
            "It is a non-toxic tweet\n",
            "It is a toxic tweet\n",
            "It is a non-toxic tweet\n",
            "It is a toxic tweet\n",
            "It is a non-toxic tweet\n",
            "It is a non-toxic tweet\n",
            "It is a non-toxic tweet\n",
            "It is a non-toxic tweet\n",
            "It is a non-toxic tweet\n",
            "It is a non-toxic tweet\n",
            "It is a non-toxic tweet\n",
            "It is a toxic tweet\n",
            "It is a non-toxic tweet\n",
            "It is a non-toxic tweet\n",
            "It is a toxic tweet\n",
            "It is a non-toxic tweet\n",
            "It is a non-toxic tweet\n",
            "It is a non-toxic tweet\n",
            "It is a toxic tweet\n",
            "It is a non-toxic tweet\n",
            "It is a non-toxic tweet\n",
            "It is a non-toxic tweet\n",
            "It is a toxic tweet\n",
            "It is a non-toxic tweet\n",
            "It is a non-toxic tweet\n",
            "It is a non-toxic tweet\n",
            "It is a toxic tweet\n",
            "It is a non-toxic tweet\n",
            "It is a non-toxic tweet\n",
            "It is a toxic tweet\n",
            "It is a toxic tweet\n",
            "It is a non-toxic tweet\n",
            "It is a non-toxic tweet\n",
            "It is a non-toxic tweet\n",
            "It is a toxic tweet\n",
            "It is a non-toxic tweet\n",
            "It is a toxic tweet\n",
            "It is a non-toxic tweet\n",
            "It is a non-toxic tweet\n",
            "It is a non-toxic tweet\n",
            "It is a non-toxic tweet\n",
            "It is a non-toxic tweet\n",
            "It is a non-toxic tweet\n",
            "It is a non-toxic tweet\n",
            "It is a non-toxic tweet\n",
            "It is a toxic tweet\n",
            "It is a toxic tweet\n",
            "It is a toxic tweet\n",
            "It is a toxic tweet\n",
            "It is a toxic tweet\n",
            "It is a non-toxic tweet\n",
            "It is a toxic tweet\n",
            "It is a toxic tweet\n",
            "It is a non-toxic tweet\n",
            "It is a toxic tweet\n",
            "It is a toxic tweet\n",
            "It is a non-toxic tweet\n",
            "It is a non-toxic tweet\n",
            "It is a toxic tweet\n",
            "It is a non-toxic tweet\n",
            "It is a non-toxic tweet\n",
            "It is a non-toxic tweet\n",
            "It is a non-toxic tweet\n",
            "It is a non-toxic tweet\n",
            "It is a toxic tweet\n",
            "It is a non-toxic tweet\n",
            "It is a non-toxic tweet\n",
            "It is a non-toxic tweet\n",
            "It is a toxic tweet\n",
            "It is a non-toxic tweet\n",
            "It is a toxic tweet\n",
            "It is a toxic tweet\n",
            "It is a non-toxic tweet\n",
            "It is a toxic tweet\n",
            "It is a non-toxic tweet\n",
            "It is a toxic tweet\n",
            "It is a non-toxic tweet\n",
            "It is a toxic tweet\n",
            "It is a toxic tweet\n",
            "It is a non-toxic tweet\n",
            "It is a toxic tweet\n",
            "It is a non-toxic tweet\n",
            "It is a non-toxic tweet\n",
            "It is a toxic tweet\n",
            "It is a non-toxic tweet\n",
            "It is a non-toxic tweet\n"
          ]
        }
      ]
    }
  ]
}